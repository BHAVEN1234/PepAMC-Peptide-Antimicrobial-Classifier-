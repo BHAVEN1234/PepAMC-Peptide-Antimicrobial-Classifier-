{
 "cells": [
  {
   "cell_type": "code",
   "execution_count": 2,
   "id": "17f8b3d3-d3e4-40b4-a83a-f82bf6adcb5a",
   "metadata": {},
   "outputs": [
    {
     "name": "stdout",
     "output_type": "stream",
     "text": [
      "Requirement already satisfied: tabulate in c:\\users\\bchheda\\appdata\\local\\programs\\python\\python312\\lib\\site-packages (0.9.0)\n",
      "Note: you may need to restart the kernel to use updated packages.\n"
     ]
    }
   ],
   "source": [
    "pip install tabulate"
   ]
  },
  {
   "cell_type": "code",
   "execution_count": null,
   "id": "9abe9e70-99a3-4060-86df-990046639616",
   "metadata": {},
   "outputs": [
    {
     "name": "stdout",
     "output_type": "stream",
     "text": [
      "+-------------------------------------------+-------------------+--------------------+--------------------+----------------------+---------------------+-----------------------------------------------------------------------------------------------------------------------+\n",
      "|                  Dataset                  | Number of Classes | Number of Features | Numerical Features | Categorical Features | Size of the Dataset |                                                    Rows per Class                                                     |\n",
      "+-------------------------------------------+-------------------+--------------------+--------------------+----------------------+---------------------+-----------------------------------------------------------------------------------------------------------------------+\n",
      "|                   Iris                    |         3         |         4          |         4          |          0           |         150         |                                                 {0: 50, 1: 50, 2: 50}                                                 |\n",
      "| WBDC (Breast Cancer Wisconsin Diagnostic) |         2         |         30         |         30         |          0           |         569         |                                                 {'1': 357, '2': 212}                                                  |\n",
      "|                 Spambase                  |         2         |         57         |         57         |          0           |        4601         |                                                {'0': 2788, '1': 1813}                                                 |\n",
      "|                   Heart                   |        14         |         4          |         3          |          1           |         559         |            {0: 479, 1: 56, 2: 9, 3: 4, 4: 2, 8: 1, 52: 1, 36: 1, 14: 1, 77: 1, 43: 1, 70: 1, 68: 1, 21: 1}            |\n",
      "|                   Glass                   |         2         |         9          |         9          |          0           |         214         |                                                  {'N': 138, 'P': 76}                                                  |\n",
      "|  WBC (Breast Cancer Wisconsin Original)   |         2         |         9          |         9          |          0           |         699         |                                           {'benign': 458, 'malignant': 241}                                           |\n",
      "|                Ionosphere                 |         2         |         34         |         34         |          0           |         351         |                                                 {'g': 225, 'b': 126}                                                  |\n",
      "|                Arrhythmia                 |        13         |        279         |        206         |          73          |         452         | {'1': 245, '10': 50, '2': 44, '6': 25, '16': 22, '4': 15, '3': 15, '5': 13, '9': 9, '15': 5, '14': 4, '7': 3, '8': 2} |\n",
      "|             Multiple Features             |        10         |        216         |        216         |          0           |        2000         |         {'1': 200, '10': 200, '2': 200, '3': 200, '4': 200, '5': 200, '6': 200, '7': 200, '8': 200, '9': 200}         |\n",
      "|                Australian                 |         2         |         14         |         6          |          8           |         690         |                                                 {'0': 383, '1': 307}                                                  |\n",
      "|      German Number (Credit Dataset)       |         2         |         20         |         7          |          13          |        1000         |                                               {'good': 700, 'bad': 300}                                               |\n",
      "|                    DNA                    |         3         |        180         |         0          |         180          |        3186         |                                            {'3': 1654, '1': 767, '2': 765}                                            |\n",
      "|                   Wine                    |         3         |         13         |         13         |          0           |         178         |                                                 {1: 71, 0: 59, 2: 48}                                                 |\n",
      "|                  Vehicle                  |         2         |         18         |         18         |          0           |         846         |                                                 {'N': 628, 'P': 218}                                                  |\n",
      "|                 Waveform                  |         2         |         40         |         40         |          0           |        5000         |                                                {'N': 3308, 'P': 1692}                                                 |\n",
      "|                    Zoo                    |         2         |         16         |         1          |          15          |         101         |                                                  {'N': 60, 'P': 41}                                                   |\n",
      "|                Hillvalley                 |         2         |        100         |        100         |          0           |        1212         |                                                 {'2': 612, '1': 600}                                                  |\n",
      "|                   Sonar                   |         2         |         60         |         60         |          0           |         208         |                                               {'Mine': 111, 'Rock': 97}                                               |\n",
      "|                  Musk 1                   |         2         |        167         |        166         |          1           |        6598         |                                                {'0': 5581, '1': 1017}                                                 |\n",
      "+-------------------------------------------+-------------------+--------------------+--------------------+----------------------+---------------------+-----------------------------------------------------------------------------------------------------------------------+\n"
     ]
    }
   ],
   "source": [
    "from sklearn.datasets import load_iris, load_wine, fetch_openml\n",
    "import pandas as pd\n",
    "import numpy as np\n",
    "from tabulate import tabulate  # Import tabulate for table formatting\n",
    "\n",
    "# Create a list to hold dataset summaries\n",
    "dataset_summaries = []\n",
    "\n",
    "# Function to summarize each dataset\n",
    "def summarize_dataset(name, data, target):\n",
    "    # Convert data to pandas DataFrame for easier analysis\n",
    "    df = pd.DataFrame(data)\n",
    "    \n",
    "    # Count numerical and categorical features\n",
    "    numerical_features = df.select_dtypes(include=[np.number]).shape[1]\n",
    "    categorical_features = df.select_dtypes(exclude=[np.number]).shape[1]\n",
    "    \n",
    "    # Count the number of rows per class\n",
    "    class_counts = pd.Series(target).value_counts().to_dict()\n",
    "    \n",
    "    return {\n",
    "        \"Dataset\": name,\n",
    "        \"Number of Classes\": len(class_counts),\n",
    "        \"Number of Features\": df.shape[1],\n",
    "        \"Numerical Features\": numerical_features,\n",
    "        \"Categorical Features\": categorical_features,\n",
    "        \"Size of the Dataset\": df.shape[0],\n",
    "        \"Rows per Class\": class_counts\n",
    "    }\n",
    "\n",
    "# Function to safely load a dataset with error handling\n",
    "def load_dataset(dataset_name, fetch_func, **kwargs):\n",
    "    try:\n",
    "        data, target = fetch_func(**kwargs, return_X_y=True)\n",
    "        summary = summarize_dataset(dataset_name, data, target)\n",
    "        dataset_summaries.append(summary)\n",
    "    except ValueError as ve:\n",
    "        print(f\"ValueError while loading {dataset_name}: {ve}\\n\")\n",
    "    except Exception as e:\n",
    "        print(f\"Failed to load {dataset_name}: {e}\\n\")\n",
    "\n",
    "# Load and summarize all datasets\n",
    "load_dataset(\"Iris\", load_iris)\n",
    "load_dataset(\"WBDC (Breast Cancer Wisconsin Diagnostic)\", fetch_openml, data_id=1510)\n",
    "load_dataset(\"Spambase\", fetch_openml, name=\"spambase\", version=1)\n",
    "load_dataset(\"Heart\", fetch_openml, data_id=533)\n",
    "load_dataset(\"Glass\", fetch_openml, name=\"glass\", version=2)\n",
    "load_dataset(\"WBC (Breast Cancer Wisconsin Original)\", fetch_openml, data_id=15)\n",
    "load_dataset(\"Ionosphere\", fetch_openml, name=\"ionosphere\", version=1)\n",
    "load_dataset(\"Arrhythmia\", fetch_openml, name=\"arrhythmia\", version=1)\n",
    "load_dataset(\"Multiple Features\", fetch_openml, name=\"mfeat-factors\", version=1)\n",
    "load_dataset(\"Australian\", fetch_openml, name=\"australian\")\n",
    "load_dataset(\"German Number (Credit Dataset)\", fetch_openml, name=\"credit-g\", version=1)\n",
    "load_dataset(\"DNA\", fetch_openml, name=\"dna\", version=1)\n",
    "load_dataset(\"Wine\", load_wine)\n",
    "load_dataset(\"Vehicle\", fetch_openml, name=\"vehicle\", version=2)\n",
    "load_dataset(\"Waveform\", fetch_openml, name=\"waveform-5000\", version=2)\n",
    "load_dataset(\"Zoo\", fetch_openml, name=\"zoo\", version=2)\n",
    "load_dataset(\"Hillvalley\", fetch_openml, name=\"hill-valley\", version=2)\n",
    "load_dataset(\"Sonar\", fetch_openml, name=\"sonar\", version=1)\n",
    "load_dataset(\"Musk 1\", fetch_openml, name=\"musk\", version=1)\n",
    "\n",
    "# Create a DataFrame from the collected summaries\n",
    "df_datasets = pd.DataFrame(dataset_summaries)\n",
    "\n",
    "\n",
    "# Display the DataFrame in an attractive table format with column width management\n",
    "print(tabulate(df_datasets, headers='keys', tablefmt='pretty', showindex=False, \n",
    "               stralign='center', numalign='center'))"
   ]
  },
  {
   "cell_type": "code",
   "execution_count": null,
   "id": "3163e9bd-099a-41cd-bcaf-6bf8abe732e2",
   "metadata": {},
   "outputs": [],
   "source": []
  },
  {
   "cell_type": "code",
   "execution_count": null,
   "id": "d4d1b3d2-0c74-4529-8f1a-fa4565d9b332",
   "metadata": {},
   "outputs": [],
   "source": []
  }
 ],
 "metadata": {
  "kernelspec": {
   "display_name": "Python 3 (ipykernel)",
   "language": "python",
   "name": "python3"
  },
  "language_info": {
   "codemirror_mode": {
    "name": "ipython",
    "version": 3
   },
   "file_extension": ".py",
   "mimetype": "text/x-python",
   "name": "python",
   "nbconvert_exporter": "python",
   "pygments_lexer": "ipython3",
   "version": "3.12.5"
  }
 },
 "nbformat": 4,
 "nbformat_minor": 5
}

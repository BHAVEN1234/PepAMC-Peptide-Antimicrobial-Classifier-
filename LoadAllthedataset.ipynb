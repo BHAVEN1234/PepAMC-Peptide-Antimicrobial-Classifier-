{
 "cells": [
  {
   "cell_type": "code",
   "execution_count": 11,
   "id": "17f8b3d3-d3e4-40b4-a83a-f82bf6adcb5a",
   "metadata": {},
   "outputs": [
    {
     "name": "stdout",
     "output_type": "stream",
     "text": [
      "Collecting tabulate\n",
      "  Downloading tabulate-0.9.0-py3-none-any.whl.metadata (34 kB)\n",
      "Downloading tabulate-0.9.0-py3-none-any.whl (35 kB)\n",
      "Installing collected packages: tabulate\n",
      "Successfully installed tabulate-0.9.0\n",
      "Note: you may need to restart the kernel to use updated packages.\n"
     ]
    }
   ],
   "source": [
    "pip install tabulate"
   ]
  },
  {
   "cell_type": "code",
   "execution_count": 12,
   "id": "9abe9e70-99a3-4060-86df-990046639616",
   "metadata": {},
   "outputs": [
    {
     "name": "stdout",
     "output_type": "stream",
     "text": [
      "+-------------------------------------------+-------------------+--------------------+---------------------+\n",
      "|                  Dataset                  | Number of Classes | Number of Features | Size of the Dataset |\n",
      "+-------------------------------------------+-------------------+--------------------+---------------------+\n",
      "|                   Iris                    |         3         |         4          |         150         |\n",
      "| WBDC (Breast Cancer Wisconsin Diagnostic) |         2         |         30         |         569         |\n",
      "|                 Spambase                  |         2         |         57         |        4601         |\n",
      "|                   Heart                   |        14         |         4          |         559         |\n",
      "|                   Glass                   |         2         |         9          |         214         |\n",
      "|  WBC (Breast Cancer Wisconsin Original)   |         2         |         9          |         699         |\n",
      "|                Ionosphere                 |         2         |         34         |         351         |\n",
      "|                Arrhythmia                 |        13         |        279         |         452         |\n",
      "|             Multiple Features             |        10         |        216         |        2000         |\n",
      "|                Australian                 |         2         |         14         |         690         |\n",
      "|      German Number (Credit Dataset)       |         2         |         20         |        1000         |\n",
      "|                    DNA                    |         3         |        180         |        3186         |\n",
      "|                   Wine                    |         3         |         13         |         178         |\n",
      "|                  Vehicle                  |         2         |         18         |         846         |\n",
      "|                 Waveform                  |         2         |         40         |        5000         |\n",
      "|                    Zoo                    |         2         |         16         |         101         |\n",
      "|                Hillvalley                 |         2         |        100         |        1212         |\n",
      "|                   Sonar                   |         2         |         60         |         208         |\n",
      "|                  Musk 1                   |         2         |        167         |        6598         |\n",
      "+-------------------------------------------+-------------------+--------------------+---------------------+\n"
     ]
    }
   ],
   "source": [
    "# Import necessary libraries\n",
    "from sklearn.datasets import load_iris, load_wine, fetch_openml\n",
    "import pandas as pd\n",
    "from tabulate import tabulate  # Import tabulate for table formatting\n",
    "\n",
    "# Create a list to hold dataset summaries\n",
    "dataset_summaries = []\n",
    "\n",
    "# Function to summarize each dataset\n",
    "def summarize_dataset(name, data, target):\n",
    "    return {\n",
    "        \"Dataset\": name,\n",
    "        \"Number of Classes\": len(pd.Series(target).unique()),\n",
    "        \"Number of Features\": data.shape[1],\n",
    "        \"Size of the Dataset\": data.shape[0]\n",
    "    }\n",
    "\n",
    "# Function to safely load a dataset with error handling\n",
    "def load_dataset(dataset_name, fetch_func, **kwargs):\n",
    "    try:\n",
    "        data, target = fetch_func(**kwargs, return_X_y=True)\n",
    "        summary = summarize_dataset(dataset_name, data, target)\n",
    "        dataset_summaries.append(summary)\n",
    "    except ValueError as ve:\n",
    "        print(f\"ValueError while loading {dataset_name}: {ve}\\n\")\n",
    "    except Exception as e:\n",
    "        print(f\"Failed to load {dataset_name}: {e}\\n\")\n",
    "\n",
    "# Load and summarize all datasets\n",
    "load_dataset(\"Iris\", load_iris)\n",
    "load_dataset(\"WBDC (Breast Cancer Wisconsin Diagnostic)\", fetch_openml, data_id=1510)  # Using the correct WBDC ID\n",
    "load_dataset(\"Spambase\", fetch_openml, name=\"spambase\", version=1)  # Specifying version\n",
    "load_dataset(\"Heart\", fetch_openml, data_id=533)  # Changed to the correct ID for the heart dataset\n",
    "load_dataset(\"Glass\", fetch_openml, name=\"glass\", version=2)  # Specify version\n",
    "load_dataset(\"WBC (Breast Cancer Wisconsin Original)\", fetch_openml, data_id=15)  # Correct WBC ID\n",
    "load_dataset(\"Ionosphere\", fetch_openml, name=\"ionosphere\", version=1)\n",
    "load_dataset(\"Arrhythmia\", fetch_openml, name=\"arrhythmia\", version=1)  # Specify version\n",
    "load_dataset(\"Multiple Features\", fetch_openml, name=\"mfeat-factors\", version=1)  # Specify version\n",
    "load_dataset(\"Australian\", fetch_openml, name=\"australian\")  # Using the name directly\n",
    "load_dataset(\"German Number (Credit Dataset)\", fetch_openml, name=\"credit-g\", version=1)  # Specify version\n",
    "load_dataset(\"DNA\", fetch_openml, name=\"dna\", version=1)  # Specify version\n",
    "load_dataset(\"Wine\", load_wine)\n",
    "load_dataset(\"Vehicle\", fetch_openml, name=\"vehicle\", version=2)  # Specify version\n",
    "load_dataset(\"Waveform\", fetch_openml, name=\"waveform-5000\", version=2)  # Specify version\n",
    "load_dataset(\"Zoo\", fetch_openml, name=\"zoo\", version=2)  # Specify version\n",
    "load_dataset(\"Hillvalley\", fetch_openml, name=\"hill-valley\", version=2)  # Specify version\n",
    "load_dataset(\"Sonar\", fetch_openml, name=\"sonar\", version=1)  # Specify version\n",
    "load_dataset(\"Musk 1\", fetch_openml, name=\"musk\", version=1)  # Specify version\n",
    "\n",
    "# Create a DataFrame from the collected summaries\n",
    "df_datasets = pd.DataFrame(dataset_summaries)\n",
    "\n",
    "# Display the DataFrame in an attractive table format\n",
    "print(tabulate(df_datasets, headers='keys', tablefmt='pretty', showindex=False))"
   ]
  },
  {
   "cell_type": "code",
   "execution_count": null,
   "id": "3163e9bd-099a-41cd-bcaf-6bf8abe732e2",
   "metadata": {},
   "outputs": [],
   "source": []
  }
 ],
 "metadata": {
  "kernelspec": {
   "display_name": "Python 3 (ipykernel)",
   "language": "python",
   "name": "python3"
  },
  "language_info": {
   "codemirror_mode": {
    "name": "ipython",
    "version": 3
   },
   "file_extension": ".py",
   "mimetype": "text/x-python",
   "name": "python",
   "nbconvert_exporter": "python",
   "pygments_lexer": "ipython3",
   "version": "3.12.5"
  }
 },
 "nbformat": 4,
 "nbformat_minor": 5
}

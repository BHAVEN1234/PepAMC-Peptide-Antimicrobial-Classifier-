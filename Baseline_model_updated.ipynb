{
  "nbformat": 4,
  "nbformat_minor": 0,
  "metadata": {
    "colab": {
      "provenance": []
    },
    "kernelspec": {
      "name": "python3",
      "display_name": "Python 3"
    },
    "language_info": {
      "name": "python"
    }
  },
  "cells": [
    {
      "cell_type": "code",
      "execution_count": 4,
      "metadata": {
        "id": "Nx7JxdmTQquf"
      },
      "outputs": [],
      "source": [
        "from sklearn.model_selection import cross_val_score\n",
        "from sklearn.metrics import make_scorer, accuracy_score, f1_score, matthews_corrcoef\n",
        "from sklearn.model_selection import train_test_split\n",
        "from sklearn.datasets import load_iris\n",
        "from sklearn.datasets import load_wine\n",
        "from sklearn.ensemble import RandomForestClassifier\n",
        "from sklearn.neighbors import KNeighborsClassifier\n",
        "from sklearn.svm import SVC\n",
        "from sklearn.linear_model import LogisticRegression\n",
        "from sklearn.tree import DecisionTreeClassifier"
      ]
    },
    {
      "cell_type": "code",
      "source": [
        "from sklearn.preprocessing import StandardScaler\n",
        "from sklearn.metrics import make_scorer, accuracy_score, f1_score, matthews_corrcoef\n",
        "from sklearn.model_selection import cross_val_score, StratifiedKFold\n",
        "from sklearn.neighbors import KNeighborsClassifier\n",
        "from sklearn.ensemble import RandomForestClassifier\n",
        "from sklearn.linear_model import LogisticRegression\n",
        "\n",
        "def Baseline(estimator, fold=10, X=None, y=None, scoring='accuracy'):\n",
        "    \"\"\"\n",
        "    Perform k-fold cross-validation on a dataset with dynamic baseline model selection.\n",
        "\n",
        "    Parameters:\n",
        "        estimator: Machine learning model or a choice of baseline model if 'auto'.\n",
        "        fold (int): Number of folds for cross-validation.\n",
        "        X (ndarray): Feature matrix.\n",
        "        y (ndarray): Target vector.\n",
        "        scoring (str): The scoring metric. Options: 'accuracy', 'matthews_corrcoef', 'f1_score'.\n",
        "\n",
        "    Returns:\n",
        "        float: The mean cross-validation score across the folds.\n",
        "    \"\"\"\n",
        "    # Preprocess the dataset: Scale the features to handle diverse ranges\n",
        "    scaler = StandardScaler()\n",
        "    X_scaled = scaler.fit_transform(X)\n",
        "\n",
        "    # Define scoring methods\n",
        "    scoring_functions = {\n",
        "        'accuracy': make_scorer(accuracy_score),\n",
        "        'f1_score': make_scorer(f1_score, average='weighted'),\n",
        "        'matthews_corrcoef': make_scorer(matthews_corrcoef)\n",
        "    }\n",
        "\n",
        "    # Ensure a valid scoring method is used\n",
        "    if scoring not in scoring_functions:\n",
        "        raise ValueError(f\"Invalid scoring method '{scoring}'. Use 'accuracy', 'matthews_corrcoef', or 'f1_score'.\")\n",
        "\n",
        "    # Default baseline model selection based on dataset properties\n",
        "    if estimator == 'auto':\n",
        "        if X.shape[1] < 20:  # Low-dimensional data\n",
        "            estimator = KNeighborsClassifier(n_neighbors=5)\n",
        "        elif X.shape[1] < 100:  # Medium-dimensional data\n",
        "            estimator = RandomForestClassifier(n_estimators=100, random_state=42)\n",
        "        else:  # High-dimensional data\n",
        "            estimator = LogisticRegression(max_iter=500, random_state=42)\n",
        "\n",
        "    # Perform stratified cross-validation\n",
        "    cv = StratifiedKFold(n_splits=fold, shuffle=True, random_state=42)\n",
        "    scores = cross_val_score(estimator, X_scaled, y, cv=cv, scoring=scoring_functions[scoring])\n",
        "\n",
        "    # Calculate and print the mean score\n",
        "    mean_score = scores.mean()\n",
        "    print(f\"Baseline {scoring} score over {fold}-fold CV: {mean_score:.4f}\")\n",
        "    return mean_score\n"
      ],
      "metadata": {
        "id": "vK_edn7qQrxi"
      },
      "execution_count": 8,
      "outputs": []
    },
    {
      "cell_type": "code",
      "source": [
        "# Load a sample dataset\n",
        "data = load_iris()\n",
        "X, y = data.data, data.target\n",
        "\n",
        "# Evaluate the baseline model using 10-fold cross-validation with accuracy scoring\n",
        "Baseline(estimator, fold=10, X=X, y=y, scoring='accuracy')\n",
        "\n",
        "# Evaluate with F1-score\n",
        "Baseline(estimator, fold=10, X=X, y=y, scoring='f1_score')\n",
        "\n",
        "# Evaluate with Matthews correlation coefficient\n",
        "Baseline(estimator, fold=10, X=X, y=y, scoring='matthews_corrcoef')\n"
      ],
      "metadata": {
        "colab": {
          "base_uri": "https://localhost:8080/"
        },
        "id": "gAZVJIhOQ0xw",
        "outputId": "dddfc743-cd1c-44b1-c57f-e6cd9d83bd84"
      },
      "execution_count": 14,
      "outputs": [
        {
          "output_type": "stream",
          "name": "stdout",
          "text": [
            "Baseline accuracy score over 10-fold CV: 0.9533\n",
            "Baseline f1_score score over 10-fold CV: 0.9520\n",
            "Baseline matthews_corrcoef score over 10-fold CV: 0.9363\n"
          ]
        },
        {
          "output_type": "execute_result",
          "data": {
            "text/plain": [
              "0.9362634927202874"
            ]
          },
          "metadata": {},
          "execution_count": 14
        }
      ]
    },
    {
      "cell_type": "code",
      "source": [
        "# Load a sample dataset\n",
        "data = load_wine()\n",
        "X, y = data.data, data.target\n",
        "\n",
        "# Evaluate the baseline model using 10-fold cross-validation with accuracy scoring\n",
        "Baseline(estimator, fold=10, X=X, y=y, scoring='accuracy')\n",
        "\n",
        "# Evaluate with F1-score\n",
        "Baseline(estimator, fold=10, X=X, y=y, scoring='f1_score')\n",
        "\n",
        "# Evaluate with Matthews correlation coefficient\n",
        "Baseline(estimator, fold=10, X=X, y=y, scoring='matthews_corrcoef')"
      ],
      "metadata": {
        "colab": {
          "base_uri": "https://localhost:8080/"
        },
        "id": "NORQETiSQ3dk",
        "outputId": "ca8afdae-8174-4805-a271-9f5b2252eaad"
      },
      "execution_count": 13,
      "outputs": [
        {
          "output_type": "stream",
          "name": "stdout",
          "text": [
            "Baseline accuracy score over 10-fold CV: 0.9722\n",
            "Baseline f1_score score over 10-fold CV: 0.9717\n",
            "Baseline matthews_corrcoef score over 10-fold CV: 0.9616\n"
          ]
        },
        {
          "output_type": "execute_result",
          "data": {
            "text/plain": [
              "0.9615828975793683"
            ]
          },
          "metadata": {},
          "execution_count": 13
        }
      ]
    },
    {
      "cell_type": "code",
      "source": [
        "# Load a sample dataset\n",
        "from sklearn.datasets import fetch_openml\n",
        "\n",
        "# Load Vehicle dataset\n",
        "vehicle_data = fetch_openml(name='vehicle', version=1, as_frame=True)\n",
        "X = vehicle_data.data\n",
        "y = vehicle_data.target\n",
        "\n",
        "# Evaluate the baseline model using 10-fold cross-validation with accuracy scoring\n",
        "Baseline(estimator, fold=10, X=X, y=y, scoring='accuracy')\n",
        "\n",
        "# Evaluate with F1-score\n",
        "Baseline(estimator, fold=10, X=X, y=y, scoring='f1_score')\n",
        "\n",
        "# Evaluate with Matthews correlation coefficient\n",
        "Baseline(estimator, fold=10, X=X, y=y, scoring='matthews_corrcoef')"
      ],
      "metadata": {
        "colab": {
          "base_uri": "https://localhost:8080/"
        },
        "id": "wAF7dytyKq5F",
        "outputId": "1f201901-4b23-4e99-b78c-98aaae7c70fd"
      },
      "execution_count": 12,
      "outputs": [
        {
          "output_type": "stream",
          "name": "stdout",
          "text": [
            "Baseline accuracy score over 10-fold CV: 0.7198\n",
            "Baseline f1_score score over 10-fold CV: nan\n",
            "Baseline matthews_corrcoef score over 10-fold CV: 0.6289\n"
          ]
        },
        {
          "output_type": "stream",
          "name": "stderr",
          "text": [
            "/usr/local/lib/python3.10/dist-packages/sklearn/model_selection/_validation.py:1000: UserWarning: Scoring failed. The score on this train-test partition for these parameters will be set to nan. Details: \n",
            "Traceback (most recent call last):\n",
            "  File \"/usr/local/lib/python3.10/dist-packages/sklearn/metrics/_scorer.py\", line 139, in __call__\n",
            "    score = scorer._score(\n",
            "  File \"/usr/local/lib/python3.10/dist-packages/sklearn/metrics/_scorer.py\", line 371, in _score\n",
            "    y_pred = method_caller(\n",
            "  File \"/usr/local/lib/python3.10/dist-packages/sklearn/metrics/_scorer.py\", line 89, in _cached_call\n",
            "    result, _ = _get_response_values(\n",
            "  File \"/usr/local/lib/python3.10/dist-packages/sklearn/utils/_response.py\", line 204, in _get_response_values\n",
            "    raise ValueError(\n",
            "ValueError: pos_label=1 is not a valid label: It should be one of ['bus' 'opel' 'saab' 'van']\n",
            "\n",
            "  warnings.warn(\n",
            "/usr/local/lib/python3.10/dist-packages/sklearn/model_selection/_validation.py:1000: UserWarning: Scoring failed. The score on this train-test partition for these parameters will be set to nan. Details: \n",
            "Traceback (most recent call last):\n",
            "  File \"/usr/local/lib/python3.10/dist-packages/sklearn/metrics/_scorer.py\", line 139, in __call__\n",
            "    score = scorer._score(\n",
            "  File \"/usr/local/lib/python3.10/dist-packages/sklearn/metrics/_scorer.py\", line 371, in _score\n",
            "    y_pred = method_caller(\n",
            "  File \"/usr/local/lib/python3.10/dist-packages/sklearn/metrics/_scorer.py\", line 89, in _cached_call\n",
            "    result, _ = _get_response_values(\n",
            "  File \"/usr/local/lib/python3.10/dist-packages/sklearn/utils/_response.py\", line 204, in _get_response_values\n",
            "    raise ValueError(\n",
            "ValueError: pos_label=1 is not a valid label: It should be one of ['bus' 'opel' 'saab' 'van']\n",
            "\n",
            "  warnings.warn(\n",
            "/usr/local/lib/python3.10/dist-packages/sklearn/model_selection/_validation.py:1000: UserWarning: Scoring failed. The score on this train-test partition for these parameters will be set to nan. Details: \n",
            "Traceback (most recent call last):\n",
            "  File \"/usr/local/lib/python3.10/dist-packages/sklearn/metrics/_scorer.py\", line 139, in __call__\n",
            "    score = scorer._score(\n",
            "  File \"/usr/local/lib/python3.10/dist-packages/sklearn/metrics/_scorer.py\", line 371, in _score\n",
            "    y_pred = method_caller(\n",
            "  File \"/usr/local/lib/python3.10/dist-packages/sklearn/metrics/_scorer.py\", line 89, in _cached_call\n",
            "    result, _ = _get_response_values(\n",
            "  File \"/usr/local/lib/python3.10/dist-packages/sklearn/utils/_response.py\", line 204, in _get_response_values\n",
            "    raise ValueError(\n",
            "ValueError: pos_label=1 is not a valid label: It should be one of ['bus' 'opel' 'saab' 'van']\n",
            "\n",
            "  warnings.warn(\n",
            "/usr/local/lib/python3.10/dist-packages/sklearn/model_selection/_validation.py:1000: UserWarning: Scoring failed. The score on this train-test partition for these parameters will be set to nan. Details: \n",
            "Traceback (most recent call last):\n",
            "  File \"/usr/local/lib/python3.10/dist-packages/sklearn/metrics/_scorer.py\", line 139, in __call__\n",
            "    score = scorer._score(\n",
            "  File \"/usr/local/lib/python3.10/dist-packages/sklearn/metrics/_scorer.py\", line 371, in _score\n",
            "    y_pred = method_caller(\n",
            "  File \"/usr/local/lib/python3.10/dist-packages/sklearn/metrics/_scorer.py\", line 89, in _cached_call\n",
            "    result, _ = _get_response_values(\n",
            "  File \"/usr/local/lib/python3.10/dist-packages/sklearn/utils/_response.py\", line 204, in _get_response_values\n",
            "    raise ValueError(\n",
            "ValueError: pos_label=1 is not a valid label: It should be one of ['bus' 'opel' 'saab' 'van']\n",
            "\n",
            "  warnings.warn(\n",
            "/usr/local/lib/python3.10/dist-packages/sklearn/model_selection/_validation.py:1000: UserWarning: Scoring failed. The score on this train-test partition for these parameters will be set to nan. Details: \n",
            "Traceback (most recent call last):\n",
            "  File \"/usr/local/lib/python3.10/dist-packages/sklearn/metrics/_scorer.py\", line 139, in __call__\n",
            "    score = scorer._score(\n",
            "  File \"/usr/local/lib/python3.10/dist-packages/sklearn/metrics/_scorer.py\", line 371, in _score\n",
            "    y_pred = method_caller(\n",
            "  File \"/usr/local/lib/python3.10/dist-packages/sklearn/metrics/_scorer.py\", line 89, in _cached_call\n",
            "    result, _ = _get_response_values(\n",
            "  File \"/usr/local/lib/python3.10/dist-packages/sklearn/utils/_response.py\", line 204, in _get_response_values\n",
            "    raise ValueError(\n",
            "ValueError: pos_label=1 is not a valid label: It should be one of ['bus' 'opel' 'saab' 'van']\n",
            "\n",
            "  warnings.warn(\n",
            "/usr/local/lib/python3.10/dist-packages/sklearn/model_selection/_validation.py:1000: UserWarning: Scoring failed. The score on this train-test partition for these parameters will be set to nan. Details: \n",
            "Traceback (most recent call last):\n",
            "  File \"/usr/local/lib/python3.10/dist-packages/sklearn/metrics/_scorer.py\", line 139, in __call__\n",
            "    score = scorer._score(\n",
            "  File \"/usr/local/lib/python3.10/dist-packages/sklearn/metrics/_scorer.py\", line 371, in _score\n",
            "    y_pred = method_caller(\n",
            "  File \"/usr/local/lib/python3.10/dist-packages/sklearn/metrics/_scorer.py\", line 89, in _cached_call\n",
            "    result, _ = _get_response_values(\n",
            "  File \"/usr/local/lib/python3.10/dist-packages/sklearn/utils/_response.py\", line 204, in _get_response_values\n",
            "    raise ValueError(\n",
            "ValueError: pos_label=1 is not a valid label: It should be one of ['bus' 'opel' 'saab' 'van']\n",
            "\n",
            "  warnings.warn(\n",
            "/usr/local/lib/python3.10/dist-packages/sklearn/model_selection/_validation.py:1000: UserWarning: Scoring failed. The score on this train-test partition for these parameters will be set to nan. Details: \n",
            "Traceback (most recent call last):\n",
            "  File \"/usr/local/lib/python3.10/dist-packages/sklearn/metrics/_scorer.py\", line 139, in __call__\n",
            "    score = scorer._score(\n",
            "  File \"/usr/local/lib/python3.10/dist-packages/sklearn/metrics/_scorer.py\", line 371, in _score\n",
            "    y_pred = method_caller(\n",
            "  File \"/usr/local/lib/python3.10/dist-packages/sklearn/metrics/_scorer.py\", line 89, in _cached_call\n",
            "    result, _ = _get_response_values(\n",
            "  File \"/usr/local/lib/python3.10/dist-packages/sklearn/utils/_response.py\", line 204, in _get_response_values\n",
            "    raise ValueError(\n",
            "ValueError: pos_label=1 is not a valid label: It should be one of ['bus' 'opel' 'saab' 'van']\n",
            "\n",
            "  warnings.warn(\n",
            "/usr/local/lib/python3.10/dist-packages/sklearn/model_selection/_validation.py:1000: UserWarning: Scoring failed. The score on this train-test partition for these parameters will be set to nan. Details: \n",
            "Traceback (most recent call last):\n",
            "  File \"/usr/local/lib/python3.10/dist-packages/sklearn/metrics/_scorer.py\", line 139, in __call__\n",
            "    score = scorer._score(\n",
            "  File \"/usr/local/lib/python3.10/dist-packages/sklearn/metrics/_scorer.py\", line 371, in _score\n",
            "    y_pred = method_caller(\n",
            "  File \"/usr/local/lib/python3.10/dist-packages/sklearn/metrics/_scorer.py\", line 89, in _cached_call\n",
            "    result, _ = _get_response_values(\n",
            "  File \"/usr/local/lib/python3.10/dist-packages/sklearn/utils/_response.py\", line 204, in _get_response_values\n",
            "    raise ValueError(\n",
            "ValueError: pos_label=1 is not a valid label: It should be one of ['bus' 'opel' 'saab' 'van']\n",
            "\n",
            "  warnings.warn(\n",
            "/usr/local/lib/python3.10/dist-packages/sklearn/model_selection/_validation.py:1000: UserWarning: Scoring failed. The score on this train-test partition for these parameters will be set to nan. Details: \n",
            "Traceback (most recent call last):\n",
            "  File \"/usr/local/lib/python3.10/dist-packages/sklearn/metrics/_scorer.py\", line 139, in __call__\n",
            "    score = scorer._score(\n",
            "  File \"/usr/local/lib/python3.10/dist-packages/sklearn/metrics/_scorer.py\", line 371, in _score\n",
            "    y_pred = method_caller(\n",
            "  File \"/usr/local/lib/python3.10/dist-packages/sklearn/metrics/_scorer.py\", line 89, in _cached_call\n",
            "    result, _ = _get_response_values(\n",
            "  File \"/usr/local/lib/python3.10/dist-packages/sklearn/utils/_response.py\", line 204, in _get_response_values\n",
            "    raise ValueError(\n",
            "ValueError: pos_label=1 is not a valid label: It should be one of ['bus' 'opel' 'saab' 'van']\n",
            "\n",
            "  warnings.warn(\n",
            "/usr/local/lib/python3.10/dist-packages/sklearn/model_selection/_validation.py:1000: UserWarning: Scoring failed. The score on this train-test partition for these parameters will be set to nan. Details: \n",
            "Traceback (most recent call last):\n",
            "  File \"/usr/local/lib/python3.10/dist-packages/sklearn/metrics/_scorer.py\", line 139, in __call__\n",
            "    score = scorer._score(\n",
            "  File \"/usr/local/lib/python3.10/dist-packages/sklearn/metrics/_scorer.py\", line 371, in _score\n",
            "    y_pred = method_caller(\n",
            "  File \"/usr/local/lib/python3.10/dist-packages/sklearn/metrics/_scorer.py\", line 89, in _cached_call\n",
            "    result, _ = _get_response_values(\n",
            "  File \"/usr/local/lib/python3.10/dist-packages/sklearn/utils/_response.py\", line 204, in _get_response_values\n",
            "    raise ValueError(\n",
            "ValueError: pos_label=1 is not a valid label: It should be one of ['bus' 'opel' 'saab' 'van']\n",
            "\n",
            "  warnings.warn(\n"
          ]
        },
        {
          "output_type": "execute_result",
          "data": {
            "text/plain": [
              "0.6288526215780331"
            ]
          },
          "metadata": {},
          "execution_count": 12
        }
      ]
    },
    {
      "cell_type": "code",
      "source": [],
      "metadata": {
        "id": "ivIvWyOtM3Cu"
      },
      "execution_count": null,
      "outputs": []
    }
  ]
}
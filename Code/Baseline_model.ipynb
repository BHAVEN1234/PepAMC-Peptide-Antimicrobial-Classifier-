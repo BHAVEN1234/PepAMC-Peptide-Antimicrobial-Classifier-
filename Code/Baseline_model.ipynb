{
  "nbformat": 4,
  "nbformat_minor": 0,
  "metadata": {
    "colab": {
      "provenance": []
    },
    "kernelspec": {
      "name": "python3",
      "display_name": "Python 3"
    },
    "language_info": {
      "name": "python"
    }
  },
  "cells": [
    {
      "cell_type": "code",
      "execution_count": 5,
      "metadata": {
        "id": "1yxQMATGYBz5"
      },
      "outputs": [],
      "source": [
        "from sklearn.model_selection import cross_val_score, GridSearchCV, StratifiedKFold\n",
        "from sklearn.metrics import make_scorer, accuracy_score, f1_score, matthews_corrcoef\n",
        "from sklearn.preprocessing import StandardScaler, LabelEncoder\n",
        "from sklearn.impute import SimpleImputer\n",
        "from sklearn.neighbors import KNeighborsClassifier\n",
        "from sklearn.datasets import load_iris, load_wine, fetch_openml\n",
        "import pandas as pd\n",
        "import numpy as np\n",
        "from sklearn.compose import ColumnTransformer\n",
        "from sklearn.pipeline import Pipeline\n",
        "from sklearn.preprocessing import OneHotEncoder"
      ]
    },
    {
      "cell_type": "code",
      "source": [
        "# Define datasets\n",
        "datasets = [\n",
        "    (\"Iris\", load_iris),\n",
        "    (\"WBDC (Breast Cancer Wisconsin Diagnostic)\", lambda: fetch_openml(data_id=1510)),\n",
        "    (\"Spambase\", lambda: fetch_openml(name=\"spambase\", version=1)),\n",
        "    (\"Heart\", lambda: fetch_openml(data_id=533)),\n",
        "    (\"Glass\", lambda: fetch_openml(name=\"glass\", version=2)),\n",
        "    (\"WBC (Breast Cancer Wisconsin Original)\", lambda: fetch_openml(data_id=15)),\n",
        "    (\"Ionosphere\", lambda: fetch_openml(name=\"ionosphere\", version=1)),\n",
        "    (\"Arrhythmia\", lambda: fetch_openml(name=\"arrhythmia\", version=1)),\n",
        "    (\"Multiple Features\", lambda: fetch_openml(name=\"mfeat-factors\", version=1)),\n",
        "    (\"Australian\", lambda: fetch_openml(name=\"australian\")),\n",
        "    (\"German Number (Credit Dataset)\", lambda: fetch_openml(name=\"credit-g\", version=1)),\n",
        "    (\"DNA\", lambda: fetch_openml(name=\"dna\", version=1)),\n",
        "    (\"Wine\", load_wine),\n",
        "    (\"Vehicle\", lambda: fetch_openml(name=\"vehicle\", version=2)),\n",
        "    (\"Waveform\", lambda: fetch_openml(name=\"waveform-5000\", version=2)),\n",
        "    (\"Zoo\", lambda: fetch_openml(name=\"zoo\", version=2)),\n",
        "    (\"Hillvalley\", lambda: fetch_openml(name=\"hill-valley\", version=2)),\n",
        "    (\"Sonar\", lambda: fetch_openml(name=\"sonar\", version=1)),\n",
        "    (\"Musk 1\", lambda: fetch_openml(name=\"musk\", version=1))\n",
        "]\n"
      ],
      "metadata": {
        "id": "5erRfJdUYDMF"
      },
      "execution_count": 6,
      "outputs": []
    },
    {
      "cell_type": "code",
      "source": [
        "\n",
        "\n",
        "def Baseline(estimator, fold=10, X=None, y=None, scoring='accuracy', param_grid=None, dataset_name=\"dataset\"):\n",
        "    scoring_functions = {\n",
        "        'accuracy': make_scorer(accuracy_score),\n",
        "        'f1_score': make_scorer(f1_score, average='weighted'),\n",
        "        'matthews_corrcoef': make_scorer(matthews_corrcoef)\n",
        "    }\n",
        "\n",
        "    if scoring not in scoring_functions:\n",
        "        raise ValueError(f\"Scoring method '{scoring}' is not valid. Choose 'accuracy', 'matthews_corrcoef', or 'f1_score'.\")\n",
        "\n",
        "    # Create preprocessing steps for all features\n",
        "    preprocessor = ColumnTransformer(\n",
        "        transformers=[('onehot', OneHotEncoder(handle_unknown='ignore'), X.columns)]\n",
        "    )\n",
        "\n",
        "    # Create a pipeline with the preprocessor and the estimator\n",
        "    pipeline = Pipeline(steps=[('preprocessor', preprocessor), ('classifier', estimator)])\n",
        "\n",
        "    # Hyperparameter tuning with GridSearchCV if param_grid is provided\n",
        "    if param_grid:\n",
        "        cv = StratifiedKFold(n_splits=fold, shuffle=True, random_state=42)\n",
        "        grid_search = GridSearchCV(pipeline, param_grid, cv=cv, scoring=scoring_functions[scoring], error_score='raise')\n",
        "        grid_search.fit(X, y)\n",
        "        best_estimator = grid_search.best_estimator_\n",
        "        best_params = grid_search.best_params_\n",
        "    else:\n",
        "        pipeline.fit(X, y)\n",
        "        best_estimator = pipeline\n",
        "        best_params = {}\n",
        "\n",
        "    # Perform cross-validation with the best estimator\n",
        "    scores = cross_val_score(best_estimator, X, y, cv=fold, scoring=scoring_functions[scoring])\n",
        "\n",
        "    # Return results in specified format\n",
        "    result = {\n",
        "        'Framework': 'KNeighborsClassifier',\n",
        "        'Dataset': dataset_name,\n",
        "        'AUC': scores.mean(),\n",
        "        'AUC_STD': scores.std()\n",
        "    }\n",
        "\n",
        "    return result\n"
      ],
      "metadata": {
        "id": "svGKNauBYJyq"
      },
      "execution_count": 7,
      "outputs": []
    },
    {
      "cell_type": "code",
      "source": [
        "# Example usage: Load datasets and run Baseline function\n",
        "param_grid = {\n",
        "    'classifier__n_neighbors': [3, 5, 7],\n",
        "    'classifier__weights': ['uniform', 'distance']\n",
        "}\n",
        "results = []\n",
        "\n",
        "for dataset_name, loader in datasets:\n",
        "    try:\n",
        "        # Load data\n",
        "        data = loader()\n",
        "        X, y = (data.data, data.target) if hasattr(data, 'data') else (data['data'], data['target'])\n",
        "\n",
        "        # Convert X to DataFrame for compatibility\n",
        "        X = pd.DataFrame(X)\n",
        "\n",
        "        # Run baseline evaluation\n",
        "        result = Baseline(estimator=KNeighborsClassifier(), fold=10, X=X, y=y, scoring='accuracy', param_grid=param_grid, dataset_name=dataset_name)\n",
        "        results.append(result)\n",
        "\n",
        "    except Exception as e:\n",
        "        print(f\"Error with dataset {dataset_name}: {e}\")\n",
        "#Print all results\n",
        "for res in results:\n",
        "    print(res)"
      ],
      "metadata": {
        "colab": {
          "base_uri": "https://localhost:8080/"
        },
        "id": "G6crnA7iYKKO",
        "outputId": "047b224f-edda-401b-8224-f3f41ad0855a"
      },
      "execution_count": 18,
      "outputs": [
        {
          "output_type": "stream",
          "name": "stderr",
          "text": [
            "/usr/local/lib/python3.10/dist-packages/sklearn/model_selection/_split.py:776: UserWarning: The least populated class in y has only 1 members, which is less than n_splits=10.\n",
            "  warnings.warn(\n",
            "/usr/local/lib/python3.10/dist-packages/sklearn/model_selection/_split.py:776: UserWarning: The least populated class in y has only 1 members, which is less than n_splits=10.\n",
            "  warnings.warn(\n",
            "/usr/local/lib/python3.10/dist-packages/sklearn/model_selection/_split.py:776: UserWarning: The least populated class in y has only 2 members, which is less than n_splits=10.\n",
            "  warnings.warn(\n",
            "/usr/local/lib/python3.10/dist-packages/sklearn/model_selection/_split.py:776: UserWarning: The least populated class in y has only 2 members, which is less than n_splits=10.\n",
            "  warnings.warn(\n"
          ]
        },
        {
          "output_type": "stream",
          "name": "stdout",
          "text": [
            "{'Framework': 'KNeighborsClassifier', 'Dataset': 'Iris', 'AUC': 0.8533333333333335, 'AUC_STD': 0.07180219742846006}\n",
            "{'Framework': 'KNeighborsClassifier', 'Dataset': 'WBDC (Breast Cancer Wisconsin Diagnostic)', 'AUC': 0.6854323308270677, 'AUC_STD': 0.04093269008836167}\n",
            "{'Framework': 'KNeighborsClassifier', 'Dataset': 'Spambase', 'AUC': 0.7989625577666699, 'AUC_STD': 0.024622408860984428}\n",
            "{'Framework': 'KNeighborsClassifier', 'Dataset': 'Heart', 'AUC': 0.8191883116883115, 'AUC_STD': 0.045507263028688995}\n",
            "{'Framework': 'KNeighborsClassifier', 'Dataset': 'Glass', 'AUC': 0.6683982683982684, 'AUC_STD': 0.06734211156108369}\n",
            "{'Framework': 'KNeighborsClassifier', 'Dataset': 'WBC (Breast Cancer Wisconsin Original)', 'AUC': 0.95, 'AUC_STD': 0.03683941988065038}\n",
            "{'Framework': 'KNeighborsClassifier', 'Dataset': 'Ionosphere', 'AUC': 0.6955555555555556, 'AUC_STD': 0.1269956343992288}\n",
            "{'Framework': 'KNeighborsClassifier', 'Dataset': 'Arrhythmia', 'AUC': 0.5774396135265699, 'AUC_STD': 0.014886832236702835}\n",
            "{'Framework': 'KNeighborsClassifier', 'Dataset': 'Multiple Features', 'AUC': 0.8055, 'AUC_STD': 0.03012059096365805}\n",
            "{'Framework': 'KNeighborsClassifier', 'Dataset': 'Australian', 'AUC': 0.8565217391304347, 'AUC_STD': 0.035172930723222}\n",
            "{'Framework': 'KNeighborsClassifier', 'Dataset': 'German Number (Credit Dataset)', 'AUC': 0.721, 'AUC_STD': 0.03144837038703277}\n",
            "{'Framework': 'KNeighborsClassifier', 'Dataset': 'DNA', 'AUC': 0.83648883105617, 'AUC_STD': 0.017621144879413367}\n",
            "{'Framework': 'KNeighborsClassifier', 'Dataset': 'Wine', 'AUC': 0.6196078431372549, 'AUC_STD': 0.09941518087232178}\n",
            "{'Framework': 'KNeighborsClassifier', 'Dataset': 'Vehicle', 'AUC': 0.9172969187675069, 'AUC_STD': 0.025882129365932635}\n",
            "{'Framework': 'KNeighborsClassifier', 'Dataset': 'Waveform', 'AUC': 0.6298000000000001, 'AUC_STD': 0.020619408332927518}\n",
            "{'Framework': 'KNeighborsClassifier', 'Dataset': 'Zoo', 'AUC': 1.0, 'AUC_STD': 0.0}\n",
            "{'Framework': 'KNeighborsClassifier', 'Dataset': 'Hillvalley', 'AUC': 0.49918710201869665, 'AUC_STD': 0.006332217868819316}\n",
            "{'Framework': 'KNeighborsClassifier', 'Dataset': 'Sonar', 'AUC': 0.5238095238095238, 'AUC_STD': 0.08972116038769891}\n",
            "{'Framework': 'KNeighborsClassifier', 'Dataset': 'Musk 1', 'AUC': 0.8314949188393802, 'AUC_STD': 0.16548601532207735}\n"
          ]
        }
      ]
    },
    {
      "cell_type": "code",
      "source": [
        "from tabulate import tabulate  # Ensure you have installed the library: pip install tabulate\n",
        "\n",
        "# Generate summary table\n",
        "df_results = pd.DataFrame(results)\n",
        "\n",
        "# Pivot table for the desired format\n",
        "summary_table = df_results.pivot(index='Dataset', columns='Framework', values=['AUC', 'AUC_STD'])\n",
        "\n",
        "# Flatten MultiIndex for clean column names\n",
        "summary_table.columns = [f'{framework}_{metric}' for metric, framework in summary_table.columns]\n",
        "\n",
        "# Replace NaN values with placeholders (e.g., empty or 0.0)\n",
        "summary_table = summary_table.fillna('')\n",
        "\n",
        "# Display the summary table in a nicely formatted way\n",
        "print(tabulate(summary_table, headers='keys', tablefmt='grid'))\n",
        "\n",
        "# Save the summary table to a CSV file\n",
        "summary_table.to_csv(\"baseline_results.csv\")\n"
      ],
      "metadata": {
        "colab": {
          "base_uri": "https://localhost:8080/"
        },
        "id": "NQmcXXs8YMcN",
        "outputId": "44bcdf82-011b-4f5a-8351-a1405bb058e3"
      },
      "execution_count": 19,
      "outputs": [
        {
          "output_type": "stream",
          "name": "stdout",
          "text": [
            "+-------------------------------------------+----------------------------+--------------------------------+\n",
            "| Dataset                                   |   KNeighborsClassifier_AUC |   KNeighborsClassifier_AUC_STD |\n",
            "+===========================================+============================+================================+\n",
            "| Arrhythmia                                |                   0.57744  |                     0.0148868  |\n",
            "+-------------------------------------------+----------------------------+--------------------------------+\n",
            "| Australian                                |                   0.856522 |                     0.0351729  |\n",
            "+-------------------------------------------+----------------------------+--------------------------------+\n",
            "| DNA                                       |                   0.836489 |                     0.0176211  |\n",
            "+-------------------------------------------+----------------------------+--------------------------------+\n",
            "| German Number (Credit Dataset)            |                   0.721    |                     0.0314484  |\n",
            "+-------------------------------------------+----------------------------+--------------------------------+\n",
            "| Glass                                     |                   0.668398 |                     0.0673421  |\n",
            "+-------------------------------------------+----------------------------+--------------------------------+\n",
            "| Heart                                     |                   0.819188 |                     0.0455073  |\n",
            "+-------------------------------------------+----------------------------+--------------------------------+\n",
            "| Hillvalley                                |                   0.499187 |                     0.00633222 |\n",
            "+-------------------------------------------+----------------------------+--------------------------------+\n",
            "| Ionosphere                                |                   0.695556 |                     0.126996   |\n",
            "+-------------------------------------------+----------------------------+--------------------------------+\n",
            "| Iris                                      |                   0.853333 |                     0.0718022  |\n",
            "+-------------------------------------------+----------------------------+--------------------------------+\n",
            "| Multiple Features                         |                   0.8055   |                     0.0301206  |\n",
            "+-------------------------------------------+----------------------------+--------------------------------+\n",
            "| Musk 1                                    |                   0.831495 |                     0.165486   |\n",
            "+-------------------------------------------+----------------------------+--------------------------------+\n",
            "| Sonar                                     |                   0.52381  |                     0.0897212  |\n",
            "+-------------------------------------------+----------------------------+--------------------------------+\n",
            "| Spambase                                  |                   0.798963 |                     0.0246224  |\n",
            "+-------------------------------------------+----------------------------+--------------------------------+\n",
            "| Vehicle                                   |                   0.917297 |                     0.0258821  |\n",
            "+-------------------------------------------+----------------------------+--------------------------------+\n",
            "| WBC (Breast Cancer Wisconsin Original)    |                   0.95     |                     0.0368394  |\n",
            "+-------------------------------------------+----------------------------+--------------------------------+\n",
            "| WBDC (Breast Cancer Wisconsin Diagnostic) |                   0.685432 |                     0.0409327  |\n",
            "+-------------------------------------------+----------------------------+--------------------------------+\n",
            "| Waveform                                  |                   0.6298   |                     0.0206194  |\n",
            "+-------------------------------------------+----------------------------+--------------------------------+\n",
            "| Wine                                      |                   0.619608 |                     0.0994152  |\n",
            "+-------------------------------------------+----------------------------+--------------------------------+\n",
            "| Zoo                                       |                   1        |                     0          |\n",
            "+-------------------------------------------+----------------------------+--------------------------------+\n"
          ]
        }
      ]
    },
    {
      "cell_type": "code",
      "source": [],
      "metadata": {
        "id": "3sxZI1FUYPJa"
      },
      "execution_count": 4,
      "outputs": []
    }
  ]
}
{
  "nbformat": 4,
  "nbformat_minor": 0,
  "metadata": {
    "colab": {
      "provenance": []
    },
    "kernelspec": {
      "name": "python3",
      "display_name": "Python 3"
    },
    "language_info": {
      "name": "python"
    }
  },
  "cells": [
    {
      "cell_type": "code",
      "execution_count": 1,
      "metadata": {
        "id": "Nx7JxdmTQquf"
      },
      "outputs": [],
      "source": [
        "from sklearn.model_selection import cross_val_score\n",
        "from sklearn.metrics import make_scorer, accuracy_score, f1_score, matthews_corrcoef\n",
        "from sklearn.model_selection import train_test_split\n",
        "from sklearn.datasets import load_iris\n",
        "from sklearn.datasets import load_wine\n",
        "from sklearn.neighbors import KNeighborsClassifier\n",
        "from sklearn.model_selection import GridSearchCV, StratifiedKFold\n",
        "from sklearn.preprocessing import StandardScaler\n",
        "import pandas as pd\n",
        "import numpy as np"
      ]
    },
    {
      "cell_type": "code",
      "source": [
        "def Baseline(estimator, fold=10, X=None, y=None, scoring='accuracy', param_grid=None, dataset_name=\"dataset\"):\n",
        "    \"\"\"\n",
        "    Perform k-fold cross-validation on the given estimator and dataset, with optional hyperparameter tuning.\n",
        "\n",
        "    Parameters:\n",
        "        estimator: The machine learning model to be used for training.\n",
        "        fold (int): The number of folds for cross-validation.\n",
        "        X (ndarray): Feature matrix.\n",
        "        y (ndarray): Target vector.\n",
        "        scoring (str): The scoring method to be used. Options: 'accuracy', 'matthews_corrcoef', 'f1_score'.\n",
        "        param_grid (dict): Dictionary with hyperparameters to tune if hyperparameter tuning is desired.\n",
        "        dataset_name (str): Name of the dataset (for saving in CSV).\n",
        "\n",
        "    Returns:\n",
        "        float: The mean cross-validation score across the folds for the best model found.\n",
        "    \"\"\"\n",
        "    # Map the scoring parameter to the actual scoring function\n",
        "    scoring_functions = {\n",
        "        'accuracy': make_scorer(accuracy_score),\n",
        "        'f1_score': make_scorer(f1_score, average='weighted'),\n",
        "        'matthews_corrcoef': make_scorer(matthews_corrcoef)\n",
        "    }\n",
        "\n",
        "    if scoring not in scoring_functions:\n",
        "        raise ValueError(f\"Scoring method '{scoring}' is not valid. Choose 'accuracy', 'matthews_corrcoef', or 'f1_score'.\")\n",
        "\n",
        "    scaler = StandardScaler()\n",
        "    X_scaled = scaler.fit_transform(X)\n",
        "\n",
        "    if param_grid:\n",
        "        cv = StratifiedKFold(n_splits=fold, shuffle=True, random_state=42)\n",
        "        grid_search = GridSearchCV(estimator, param_grid, cv=cv, scoring=scoring_functions[scoring])\n",
        "        grid_search.fit(X_scaled, y)\n",
        "        best_estimator = grid_search.best_estimator_\n",
        "        print(f\"Best parameters found: {grid_search.best_params_}\")\n",
        "    else:\n",
        "        best_estimator = estimator\n",
        "\n",
        "    # Perform cross-validation with the best estimator\n",
        "    scores = cross_val_score(best_estimator, X_scaled, y, cv=fold, scoring=scoring_functions[scoring])\n",
        "\n",
        "    # Calculate mean and standard deviation\n",
        "    mean_score = scores.mean()\n",
        "    std_dev_score = scores.std()\n",
        "    print(f\"Baseline {scoring} score over {fold}-fold CV with best parameters: {mean_score:.4f} ± {std_dev_score:.4f}\")\n",
        "\n",
        "    # Prepare results for each fold in separate rows for CSV\n",
        "    results = {\n",
        "        'Dataset': [dataset_name] * fold,\n",
        "        'Fold': [f\"Fold {i+1}\" for i in range(fold)],\n",
        "        'Score': scores\n",
        "    }\n",
        "\n",
        "    # Add summary rows for mean and standard deviation\n",
        "    summary = {\n",
        "        'Dataset': [dataset_name, dataset_name],\n",
        "        'Fold': ['Mean', 'Standard Deviation'],\n",
        "        'Score': [mean_score, std_dev_score]\n",
        "    }\n",
        "\n",
        "    # Combine fold results with summary results\n",
        "    results_df = pd.DataFrame(results)\n",
        "    summary_df = pd.DataFrame(summary)\n",
        "    final_df = pd.concat([results_df, summary_df], ignore_index=True)\n",
        "\n",
        "    # Save final DataFrame to CSV\n",
        "    csv_filename = f\"{dataset_name}_cross_validation_results.csv\"\n",
        "    final_df.to_csv(csv_filename, index=False)\n",
        "    print(f\"Results saved to {csv_filename}\")\n",
        "\n",
        "    return mean_score\n"
      ],
      "metadata": {
        "id": "vK_edn7qQrxi"
      },
      "execution_count": 2,
      "outputs": []
    },
    {
      "cell_type": "code",
      "source": [
        "from sklearn.datasets import load_iris\n",
        "from sklearn.neighbors import KNeighborsClassifier\n",
        "\n",
        "# Load dataset\n",
        "data = load_iris()\n",
        "X, y = data.data, data.target\n",
        "\n",
        "# Define estimator and parameter grid\n",
        "estimator = KNeighborsClassifier()\n",
        "param_grid = {'n_neighbors': [3, 5, 7], 'weights': ['uniform', 'distance']}\n",
        "\n",
        "# Run Baseline function with dataset name\n",
        "Baseline(estimator=estimator, fold=10, X=X, y=y, scoring='accuracy', param_grid=param_grid, dataset_name=\"iris\")\n"
      ],
      "metadata": {
        "colab": {
          "base_uri": "https://localhost:8080/"
        },
        "id": "gAZVJIhOQ0xw",
        "outputId": "4fae6b04-ef7b-4251-ef28-41526e75bd73"
      },
      "execution_count": 3,
      "outputs": [
        {
          "output_type": "stream",
          "name": "stdout",
          "text": [
            "Best parameters found: {'n_neighbors': 7, 'weights': 'distance'}\n",
            "Baseline accuracy score over 10-fold CV with best parameters: 0.9600 ± 0.0442\n",
            "Results saved to iris_cross_validation_results.csv\n"
          ]
        },
        {
          "output_type": "execute_result",
          "data": {
            "text/plain": [
              "0.96"
            ]
          },
          "metadata": {},
          "execution_count": 3
        }
      ]
    },
    {
      "cell_type": "code",
      "source": [
        "from sklearn.datasets import load_iris\n",
        "from sklearn.neighbors import KNeighborsClassifier\n",
        "\n",
        "# Load dataset\n",
        "data = load_wine()\n",
        "X, y = data.data, data.target\n",
        "\n",
        "# Define estimator and parameter grid\n",
        "estimator = KNeighborsClassifier()\n",
        "param_grid = {'n_neighbors': [3, 5, 7], 'weights': ['uniform', 'distance']}\n",
        "\n",
        "# Run Baseline function with dataset name\n",
        "Baseline(estimator=estimator, fold=10, X=X, y=y, scoring='accuracy', param_grid=param_grid, dataset_name=\"wine\")\n"
      ],
      "metadata": {
        "colab": {
          "base_uri": "https://localhost:8080/"
        },
        "id": "NORQETiSQ3dk",
        "outputId": "cade56f1-7689-40eb-a0dc-568b6e608da6"
      },
      "execution_count": 4,
      "outputs": [
        {
          "output_type": "stream",
          "name": "stdout",
          "text": [
            "Best parameters found: {'n_neighbors': 5, 'weights': 'uniform'}\n",
            "Baseline accuracy score over 10-fold CV with best parameters: 0.9605 ± 0.0259\n",
            "Results saved to wine_cross_validation_results.csv\n"
          ]
        },
        {
          "output_type": "execute_result",
          "data": {
            "text/plain": [
              "0.9604575163398692"
            ]
          },
          "metadata": {},
          "execution_count": 4
        }
      ]
    },
    {
      "cell_type": "code",
      "source": [
        "# Load a sample dataset\n",
        "from sklearn.datasets import fetch_openml\n",
        "\n",
        "# Load Vehicle dataset\n",
        "vehicle_data = fetch_openml(name='vehicle', version=1, as_frame=True)\n",
        "X = vehicle_data.data\n",
        "y = vehicle_data.target\n",
        "\n",
        "# Define estimator and parameter grid\n",
        "estimator = KNeighborsClassifier()\n",
        "param_grid = {'n_neighbors': [3, 5, 7], 'weights': ['uniform', 'distance']}\n",
        "\n",
        "# Run Baseline function with dataset name\n",
        "Baseline(estimator=estimator, fold=10, X=X, y=y, scoring='accuracy', param_grid=param_grid, dataset_name=\"Vehicle_data\")\n"
      ],
      "metadata": {
        "colab": {
          "base_uri": "https://localhost:8080/"
        },
        "id": "wAF7dytyKq5F",
        "outputId": "e630fcfe-7ad6-45bc-be15-2fd556bff39d"
      },
      "execution_count": 5,
      "outputs": [
        {
          "output_type": "stream",
          "name": "stdout",
          "text": [
            "Best parameters found: {'n_neighbors': 5, 'weights': 'distance'}\n",
            "Baseline accuracy score over 10-fold CV with best parameters: 0.7176 ± 0.0369\n",
            "Results saved to Vehicle_data_cross_validation_results.csv\n"
          ]
        },
        {
          "output_type": "execute_result",
          "data": {
            "text/plain": [
              "0.7175630252100841"
            ]
          },
          "metadata": {},
          "execution_count": 5
        }
      ]
    },
    {
      "cell_type": "code",
      "source": [],
      "metadata": {
        "id": "ivIvWyOtM3Cu"
      },
      "execution_count": null,
      "outputs": []
    }
  ]
}